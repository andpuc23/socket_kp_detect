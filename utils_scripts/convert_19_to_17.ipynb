{
 "cells": [
  {
   "cell_type": "code",
   "execution_count": 1,
   "id": "511d0f1b",
   "metadata": {},
   "outputs": [],
   "source": [
    "import json"
   ]
  },
  {
   "cell_type": "code",
   "execution_count": 6,
   "id": "717fb568",
   "metadata": {},
   "outputs": [],
   "source": [
    "with open('../data/big_experiment/extended.json') as f:\n",
    "    j = json.load(f)"
   ]
  },
  {
   "cell_type": "code",
   "execution_count": 15,
   "id": "34f36e87",
   "metadata": {},
   "outputs": [
    {
     "data": {
      "text/plain": [
       "dict_keys(['id', 'image_id', 'category_id', 'segmentation', 'area', 'bbox', 'iscrowd', 'isbbox', 'color', 'keypoints', 'metadata', 'num_keypoints'])"
      ]
     },
     "execution_count": 15,
     "metadata": {},
     "output_type": "execute_result"
    }
   ],
   "source": [
    "j['annotations'][0].keys()"
   ]
  },
  {
   "cell_type": "code",
   "execution_count": 23,
   "id": "94713099",
   "metadata": {},
   "outputs": [],
   "source": [
    "for x in j['annotations']:\n",
    "#     if len(x['keypoints'])//3 != 19:\n",
    "    if x['num_keypoints'] != 19:\n",
    "        print(x)"
   ]
  },
  {
   "cell_type": "code",
   "execution_count": 24,
   "id": "718be936",
   "metadata": {},
   "outputs": [],
   "source": [
    "for x in j['annotations']:\n",
    "#     if len(x['keypoints'])//3 != 19:\n",
    "    x['num_keypoints'] = 17\n",
    "    x['keypoints'] = x['keypoints'][:17*3]"
   ]
  },
  {
   "cell_type": "code",
   "execution_count": 26,
   "id": "d87837be",
   "metadata": {},
   "outputs": [
    {
     "data": {
      "text/plain": [
       "17"
      ]
     },
     "execution_count": 26,
     "metadata": {},
     "output_type": "execute_result"
    }
   ],
   "source": [
    "j['annotations'][7]['num_keypoints']"
   ]
  },
  {
   "cell_type": "code",
   "execution_count": 29,
   "id": "2034a7b8",
   "metadata": {},
   "outputs": [],
   "source": [
    "with open('../data/big_experiment/extended_17.json', 'w') as f:\n",
    "    json.dump(j, f)"
   ]
  },
  {
   "cell_type": "code",
   "execution_count": null,
   "id": "435ba3c6",
   "metadata": {},
   "outputs": [],
   "source": []
  }
 ],
 "metadata": {
  "kernelspec": {
   "display_name": "Python 3 (ipykernel)",
   "language": "python",
   "name": "python3"
  },
  "language_info": {
   "codemirror_mode": {
    "name": "ipython",
    "version": 3
   },
   "file_extension": ".py",
   "mimetype": "text/x-python",
   "name": "python",
   "nbconvert_exporter": "python",
   "pygments_lexer": "ipython3",
   "version": "3.7.0"
  }
 },
 "nbformat": 4,
 "nbformat_minor": 5
}
